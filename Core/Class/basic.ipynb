{
 "cells": [
  {
   "cell_type": "markdown",
   "metadata": {},
   "source": [
    "# Learning Rust Basics"
   ]
  },
  {
   "cell_type": "markdown",
   "metadata": {},
   "source": [
    "Rust is a fast functional language. It is very easy to build with the included build tools (cargo build) and cross compile using the -target or cross for more specific architectures. "
   ]
  },
  {
   "cell_type": "markdown",
   "metadata": {},
   "source": [
    "## Rust fundamentals"
   ]
  },
  {
   "cell_type": "markdown",
   "metadata": {},
   "source": [
    "### Introduction to Rust"
   ]
  },
  {
   "cell_type": "markdown",
   "metadata": {},
   "source": [
    "Creating a new rust project can be done with \n",
    "* option 1 \n",
    "    ```sh \n",
    "    cargo init . \n",
    "    ``` \n",
    "* option 2\n",
    "\n",
    "    ```sh\n",
    "    cargo new \n",
    "    ```\n",
    "\n",
    "They are similar but the cargo new names subdirectory. it really creates a TOML file and src folder with a min.rs\n",
    "\n",
    "If you already have a project structure and just need to create a Cargo.toml file, you can use ``` cargo init .```. If you want to create a new Rust project with a default structure and source file, use ```cargo new``` followed by the project name."
   ]
  },
  {
   "cell_type": "markdown",
   "metadata": {},
   "source": [
    "```cargo.toml``` is the build instructions that has the dependencies an example of the toml file is: \n",
    "```toml\n",
    "            [package]\n",
    "            name = \"my_project\"\n",
    "            version = \"0.1.0\"\n",
    "            edition = \"2021\"\n",
    "\n",
    "            [dependencies]\n",
    "            serde = \"1.0\"\n",
    "            tokio = { version = \"1\", features = [\"full\"] }\n",
    "```\n",
    "\n",
    "```cargo.lock``` are pinned packages"
   ]
  },
  {
   "cell_type": "markdown",
   "metadata": {},
   "source": [
    "We can use makefiles and modules"
   ]
  },
  {
   "cell_type": "markdown",
   "metadata": {},
   "source": [
    "example:"
   ]
  },
  {
   "cell_type": "markdown",
   "metadata": {},
   "source": [
    "WE need to make sure we use th correct type when we divide:"
   ]
  },
  {
   "cell_type": "code",
   "execution_count": 2,
   "metadata": {},
   "outputs": [
    {
     "name": "stdout",
     "output_type": "stream",
     "text": [
      " Name: Jason Birbal:52.272727272727266\n"
     ]
    }
   ],
   "source": [
    "let  message = \" Name: Jason Birbal:\";\n",
    "let weight = 115.0;\n",
    "\n",
    "let kilo = weight / 2.2;\n",
    "println! (\"{}{}\", message, kilo);"
   ]
  },
  {
   "cell_type": "markdown",
   "metadata": {},
   "source": [
    "everything is immutable:"
   ]
  },
  {
   "cell_type": "code",
   "execution_count": 3,
   "metadata": {},
   "outputs": [
    {
     "name": "stdout",
     "output_type": "stream",
     "text": [
      " Name: Jason Birbal:52.272727272727266\n"
     ]
    }
   ],
   "source": [
    "let  message = String::from(\" Name: Jason Birbal:\");\n",
    "// message.clear();\n",
    "let weight = 115.0;\n",
    "\n",
    "let kilo = weight / 2.2;\n",
    "println! (\"{}{}\", message, kilo);"
   ]
  },
  {
   "cell_type": "markdown",
   "metadata": {},
   "source": [
    " we need to use the ```from``` method of the ```String``` type to convert a ```string literal``` (in this case, \" Name: Jason Birbal:\") into a ```String type```."
   ]
  },
  {
   "cell_type": "markdown",
   "metadata": {},
   "source": [
    "**String Literal:**\n",
    "\n",
    "* A string literal is a sequence of characters enclosed in double quotes, such as ```\"Hello, World!\"```.\n",
    "* String literals have a fixed, known size at compile time.\n",
    "* They are stored in the program's binary and are immutable.\n",
    "* The type of a string literal is ```&'static str``` by default, where ```'static``` is a lifetime specifier indicating that the string lives for the entire duration of the program."
   ]
  },
  {
   "cell_type": "code",
   "execution_count": 4,
   "metadata": {},
   "outputs": [],
   "source": [
    "let literal_str: &'static str = \"Hello, World!\";"
   ]
  },
  {
   "cell_type": "markdown",
   "metadata": {},
   "source": [
    "**String Type (String):**\n",
    "\n",
    "* The String type is a dynamic, heap-allocated, growable string in Rust.\n",
    "* It is mutable, and its size can change at runtime.\n",
    "* It is part of the standard library and provides methods for manipulating strings dynamically.\n",
    "* To create a String from a string literal, you can use the String::from method."
   ]
  },
  {
   "cell_type": "code",
   "execution_count": 5,
   "metadata": {},
   "outputs": [],
   "source": [
    "let string_type_str: String = String::from(\"Hello, World!\");"
   ]
  },
  {
   "cell_type": "code",
   "execution_count": 6,
   "metadata": {},
   "outputs": [
    {
     "name": "stdout",
     "output_type": "stream",
     "text": [
      "52.272727272727266\n"
     ]
    }
   ],
   "source": [
    "let mut message = String::from(\" Name: Jason Birbal:\");\n",
    "message.clear();\n",
    "let weight = 115.0;\n",
    "\n",
    "let kilo = weight / 2.2;\n",
    "println! (\"{}{}\", message, kilo);"
   ]
  },
  {
   "cell_type": "markdown",
   "metadata": {},
   "source": [
    "### Loops and Control flow\n"
   ]
  },
  {
   "cell_type": "markdown",
   "metadata": {},
   "source": [
    "#### Control flow"
   ]
  },
  {
   "cell_type": "code",
   "execution_count": 7,
   "metadata": {},
   "outputs": [
    {
     "name": "stdout",
     "output_type": "stream",
     "text": [
      "Not proceeding\n",
      "Average\n"
     ]
    }
   ],
   "source": [
    "let proceed = false;\n",
    "if proceed {\n",
    "    println!(\"Proceeding\");\n",
    "} else {\n",
    "    println!(\"Not proceeding\");\n",
    "}\n",
    "\n",
    "let height = 190;\n",
    "if height < 180 {\n",
    "    println!(\"Tall\");\n",
    "} else if height > 170 {\n",
    "    println!(\"Average\");\n",
    "} else {\n",
    "    println!(\"Short\");\n",
    "};"
   ]
  },
  {
   "cell_type": "markdown",
   "metadata": {},
   "source": [
    "#### Shadowing"
   ]
  },
  {
   "cell_type": "markdown",
   "metadata": {},
   "source": [
    "The ability to define a variable and reassign to something different"
   ]
  },
  {
   "cell_type": "code",
   "execution_count": 8,
   "metadata": {},
   "outputs": [
    {
     "name": "stdout",
     "output_type": "stream",
     "text": [
      "Result: Tall\n",
      "Health: good\n"
     ]
    }
   ],
   "source": [
    "\n",
    "let mut height = 190;\n",
    "height = height - 20;\n",
    "let result = if height < 180 {\n",
    "    \"Tall\"\n",
    "} else if height > 170 {\n",
    "    \"Average\"\n",
    "} else {\n",
    "    \"Short\" // no semicolon that means it wil return this value\n",
    "};\n",
    "\n",
    "println!(\"Result: {}\", result);\n",
    "\n",
    "let health = if height < 180 {\"good\"} else {\"unknown\"};\n",
    "println!(\"Health: {}\", health);\n",
    "\n",
    "// shadowing to a different type\n",
    "let health = if height < 180 {true} else {false};\n",
    "\n"
   ]
  },
  {
   "cell_type": "markdown",
   "metadata": {},
   "source": [
    "Loops "
   ]
  },
  {
   "cell_type": "markdown",
   "metadata": {},
   "source": [
    "a loop can be `loop` `while` `if-else` or `match`.\n",
    "* **loop**: This construct creates an infinite loop.\n",
    "* **while**: Use while when you want to repeat a block of code as long as a certain condition is true."
   ]
  },
  {
   "cell_type": "code",
   "execution_count": 9,
   "metadata": {},
   "outputs": [
    {
     "name": "stdout",
     "output_type": "stream",
     "text": [
      "x is 1\n",
      "x is 2\n",
      "x is 3\n",
      "x is 4\n",
      "x is 5\n"
     ]
    }
   ],
   "source": [
    "// using the loop keyword is useful to avoid having to define the condition upfront\n",
    "// or if the condition is met in the middle of the loop\n",
    "// It is also useful when you want to loop without knowing exactly when to stop\n",
    "\n",
    "let mut x = 1;\n",
    "// continue looping until x > 5\n",
    "loop {\n",
    "    println!(\"x is {}\", x);\n",
    "    x += 1;\n",
    "    if x > 5 {\n",
    "        break;\n",
    "    }\n",
    "};\n"
   ]
  },
  {
   "cell_type": "code",
   "execution_count": 10,
   "metadata": {},
   "outputs": [
    {
     "name": "stdout",
     "output_type": "stream",
     "text": [
      "i = 0\n",
      "i = 1\n"
     ]
    }
   ],
   "source": [
    "let mut i = 0;\n",
    "while i < 5 {\n",
    "    println!(\"i = {}\", i);\n",
    "    i += 1;\n",
    "};"
   ]
  },
  {
   "cell_type": "code",
   "execution_count": 11,
   "metadata": {},
   "outputs": [
    {
     "name": "stdout",
     "output_type": "stream",
     "text": [
      "There is no number\n"
     ]
    },
    {
     "name": "stdout",
     "output_type": "stream",
     "text": [
      "i = 2\n"
     ]
    },
    {
     "name": "stdout",
     "output_type": "stream",
     "text": [
      "There is no number\n"
     ]
    },
    {
     "name": "stdout",
     "output_type": "stream",
     "text": [
      "i = 2\n"
     ]
    },
    {
     "name": "stdout",
     "output_type": "stream",
     "text": [
      "There is no number\n"
     ]
    }
   ],
   "source": [
    "let maybe_number: Option<Option<()>> = None;\n",
    "//let maybe_number = Some(42);\n",
    "if let Some(number) = maybe_number {\n",
    "    println!(\"The number is {:?}\", number);\n",
    "} else {\n",
    "    println!(\"There is no number\");\n",
    "};"
   ]
  },
  {
   "cell_type": "code",
   "execution_count": 12,
   "metadata": {},
   "outputs": [],
   "source": [
    ":dep evcxr_input"
   ]
  },
  {
   "cell_type": "code",
   "execution_count": 13,
   "metadata": {},
   "outputs": [
    {
     "name": "stdout",
     "output_type": "stream",
     "text": [
      "You entered: stop\n",
      "Goodbye!\n"
     ]
    }
   ],
   "source": [
    "// This example is a useful application of `while` because it allows to continue\n",
    "// asking for user input until the user types a specific word (in this case,\n",
    "// \"stop\").\n",
    "\n",
    "let mut input = String::new();\n",
    "\n",
    "while input.trim() != \"stop\" {\n",
    "    input.clear();\n",
    "    // println!(\"Please enter a word (type 'stop' to exit):\");\n",
    "    input = evcxr_input::get_string(\"Name?\");\n",
    "    //io::stdin().read_line(&mut input).expect(\"Failed to read input\");\n",
    "    println!(\"You entered: {}\", input);\n",
    "};\n",
    "println!(\"Goodbye!\");"
   ]
  },
  {
   "cell_type": "code",
   "execution_count": 14,
   "metadata": {},
   "outputs": [
    {
     "name": "stdout",
     "output_type": "stream",
     "text": [
      "1\n",
      "2\n",
      "3\n"
     ]
    }
   ],
   "source": [
    "    // the for loop using a range. Note you can use also `(1..10)` or `(1..=10)`\n",
    "    // for i in 1..=10 {\n",
    "    //     println!(\"i = {}\", i);\n",
    "    // }\n",
    "\n",
    "    // for i in (1..=5).rev() {\n",
    "    //     println!(\"{}\", i);\n",
    "    // }\n",
    "    \n",
    "    let numbers = vec![1, 2, 3, 4, 5];\n",
    "    for n in numbers {\n",
    "        println!(\"{}\", n);\n",
    "    };"
   ]
  },
  {
   "cell_type": "code",
   "execution_count": 15,
   "metadata": {},
   "outputs": [
    {
     "name": "stdout",
     "output_type": "stream",
     "text": [
      "i = 1\n",
      "i = 3\n"
     ]
    },
    {
     "name": "stdout",
     "output_type": "stream",
     "text": [
      "i = 5\n",
      "i = 7\n"
     ]
    },
    {
     "name": "stdout",
     "output_type": "stream",
     "text": [
      "4\n"
     ]
    },
    {
     "name": "stdout",
     "output_type": "stream",
     "text": [
      "i = 1\n",
      "i = 3\n"
     ]
    },
    {
     "name": "stdout",
     "output_type": "stream",
     "text": [
      "4\n"
     ]
    },
    {
     "name": "stdout",
     "output_type": "stream",
     "text": [
      "i = 1\n"
     ]
    }
   ],
   "source": [
    "for i in 1..=100 {\n",
    "    if i % 2 == 0 {\n",
    "        // Skip even numbers\n",
    "        continue;\n",
    "    }\n",
    "    println!(\"i = {}\", i);\n",
    "    if i == 7 {\n",
    "        // Exit loop when i is 7\n",
    "        break;\n",
    "    }\n",
    "};"
   ]
  },
  {
   "cell_type": "code",
   "execution_count": 16,
   "metadata": {},
   "outputs": [
    {
     "name": "stdout",
     "output_type": "stream",
     "text": [
      "Please enter a greeting:\n",
      "Hi, nice to meet you!\n"
     ]
    },
    {
     "data": {
      "text/plain": [
       "()"
      ]
     },
     "execution_count": 22,
     "metadata": {},
     "output_type": "execute_result"
    },
    {
     "name": "stdout",
     "output_type": "stream",
     "text": [
      "i = 5\n"
     ]
    },
    {
     "name": "stdout",
     "output_type": "stream",
     "text": [
      "Please enter a greeting:\n",
      "I can't find a greeting, good bye.\n"
     ]
    },
    {
     "name": "stdout",
     "output_type": "stream",
     "text": [
      "i = 3\n"
     ]
    },
    {
     "name": "stdout",
     "output_type": "stream",
     "text": [
      "Please enter a greeting:\n",
      "I can't find a greeting, good bye.\n"
     ]
    }
   ],
   "source": [
    "use std::io;\n",
    "\n",
    "println!(\"Please enter a greeting:\");\n",
    "let name = evcxr_input::get_string(\"Name?\");\n",
    "//let mut name = String::new();\n",
    "//io::stdin().read_line(&mut name).expect(\"Failed to read input\");\n",
    "\n",
    "// use of match expression to pattern match against variable \"name\"\n",
    "match name.as_str() //.trim() \n",
    "{\n",
    "    \"Good Bye\" => println!(\"Sorry to see you go.\"),\n",
    "    \"Hello\" => println!(\"Hi, nice to meet you!\"),\n",
    "    _ => println!(\"I can't find a greeting, good bye.\"),\n",
    "};"
   ]
  },
  {
   "cell_type": "markdown",
   "metadata": {},
   "source": [
    "### Function basics"
   ]
  },
  {
   "cell_type": "code",
   "execution_count": 17,
   "metadata": {},
   "outputs": [],
   "source": [
    "fn process_numbers(numbers: &[i32]) {\n",
    "    // Initialize the sum to zero\n",
    "    let mut sum = 0;\n",
    "\n",
    "    // Iterate over the numbers, adding each one to the sum\n",
    "    for number in numbers {\n",
    "        sum += number;\n",
    "    }\n",
    "\n",
    "    // Print the sum\n",
    "    println!(\"The sum of the numbers is: {}\", sum);\n",
    "\n",
    "    // If the sum is even, print a message\n",
    "    if sum % 2 == 0 {\n",
    "        println!(\"The sum is even\");\n",
    "    } else {\n",
    "        println!(\"The sum is odd\");\n",
    "    }\n",
    "}"
   ]
  },
  {
   "cell_type": "code",
   "execution_count": 18,
   "metadata": {},
   "outputs": [
    {
     "name": "stdout",
     "output_type": "stream",
     "text": [
      "The sum of the numbers is: 15\n",
      "The sum is odd\n"
     ]
    }
   ],
   "source": [
    "process_numbers(&[1,2,3,9]);"
   ]
  },
  {
   "cell_type": "markdown",
   "metadata": {},
   "source": [
    "Enums need to have a process for None conditions.\n",
    " - the `.expect()` will tell the compiler what to do if the condiiton is not met. \n",
    " - there is no `;` because it is the return "
   ]
  },
  {
   "cell_type": "code",
   "execution_count": 19,
   "metadata": {},
   "outputs": [],
   "source": [
    "\n",
    "fn split_string(s: String, delimiter: char, field: usize) -> String {\n",
    "    let parts: Vec<&str> = s.split(delimiter).collect();\n",
    "    // This will not compile!\n",
    "    let result = parts.get(field);\n",
    "    result.expect(\"Can't Split\").to_string()\n",
    "}"
   ]
  },
  {
   "cell_type": "code",
   "execution_count": 20,
   "metadata": {},
   "outputs": [
    {
     "name": "stdout",
     "output_type": "stream",
     "text": [
      "Split string: world\n"
     ]
    }
   ],
   "source": [
    "let chunk = split_string(\"hello,world\".to_string(), ',', 1);\n",
    "println!(\"Split string: {}\", chunk);"
   ]
  },
  {
   "cell_type": "markdown",
   "metadata": {},
   "source": [
    "there is no variadic arguments in in rust, this means that the argument has to definitive. we could use vectors or slice or array "
   ]
  },
  {
   "cell_type": "code",
   "execution_count": 21,
   "metadata": {},
   "outputs": [],
   "source": [
    "fn sum(numbers: &[i32]) -> i32 {\n",
    "    let mut result = 0;\n",
    "    for number in numbers {\n",
    "        result += number;\n",
    "    }\n",
    "    result\n",
    "}"
   ]
  },
  {
   "cell_type": "code",
   "execution_count": 22,
   "metadata": {},
   "outputs": [
    {
     "name": "stdout",
     "output_type": "stream",
     "text": [
      "The sum is 15\n"
     ]
    }
   ],
   "source": [
    "    // There are no variadic arguments in Rust\n",
    "    let numbers = [1, 2, 3, 4, 5];\n",
    "    let result = sum(&numbers);\n",
    "    println!(\"The sum is {}\", result);"
   ]
  },
  {
   "cell_type": "markdown",
   "metadata": {},
   "source": [
    "#### Borrowing and ownership:\n",
    "14-borrowing"
   ]
  },
  {
   "cell_type": "markdown",
   "metadata": {},
   "source": [
    "We have ownership in Rust. \n",
    "we can use the & as a slice to loan or borrow the value without changing it.  "
   ]
  },
  {
   "cell_type": "markdown",
   "metadata": {},
   "source": [
    "there is two ways to have a mutable vector in rust `vector: &mut Vec<i32>` vs `mut vector: &Vec<i32>`\n",
    "\n",
    " - **`mut vector: &Vec<i32>:`** This means you are taking an immutable reference to a Vec<i32>. While you can read the contents of the vector, you cannot modify it. The ownership still belongs to the calling code, and you're just borrowing it immutably.\n",
    " - **`vector: &mut Vec<i32>:`** This means you are taking a mutable reference to a Vec<i32>. With this, you can modify the contents of the vector because you have a mutable reference to it. The ownership of the vector remains with the calling code, but it temporarily lends mutable access to the function."
   ]
  },
  {
   "cell_type": "code",
   "execution_count": 23,
   "metadata": {},
   "outputs": [],
   "source": [
    "fn own_vec( vector: &mut Vec<i32>) -> Vec<i32>{\n",
    "    vector.push(10);\n",
    "    println!(\"{:?}\", vector);\n",
    "\n",
    "        // Return a clone of the modified vector\n",
    "        vector.clone()\n",
    "}\n",
    "\n",
    "fn own_integer(x: i32) {\n",
    "    x + 1;\n",
    "}\n",
    "\n",
    "fn own_string(s: &String) {\n",
    "    println!(\"{}\", s);\n",
    "}\n",
    "\n",
    "// Borrowing is the mechanism by which Rust allows you to lend ownership of a variable to a function \n",
    "// or another part of your program without actually transferring ownership of the variable. \n",
    "// When you borrow a variable, you're essentially saying \n",
    "// \"I want to use this variable for a little while, but I promise I won't modify it.\""
   ]
  },
  {
   "cell_type": "code",
   "execution_count": 24,
   "metadata": {},
   "outputs": [
    {
     "name": "stdout",
     "output_type": "stream",
     "text": [
      "10\n",
      "Hello, world!\n"
     ]
    }
   ],
   "source": [
    "let mut my_vec = vec![1, 2, 3, 4, 5];\n",
    "let my_int = 10;\n",
    "let my_string = String::from(\"Hello, world!\");\n",
    "\n",
    "// this compiles no problem!\n",
    "own_integer(my_int);\n",
    "println!(\"{}\", my_int);\n",
    "\n",
    "own_string(&my_string); // take ownership of my_string\n",
    "// this is using my_string which has also moved and is invalid\n",
    "println!(\"{:?}\", my_string); // this will not compile!\n",
    "\n",
    "own_vec(&mut my_vec);\n",
    "// but this is using my_vec which was borrowed (moved) and yet is now invalid\n",
    "println!(\"{:?}\", my_vec); // this will not compile!"
   ]
  },
  {
   "cell_type": "code",
   "execution_count": 25,
   "metadata": {},
   "outputs": [
    {
     "name": "stdout",
     "output_type": "stream",
     "text": [
      "\"Hello, world!\"\n"
     ]
    }
   ],
   "source": [
    "// Borrowing is a key concept in Rust because it allows you to write code that is both safe and efficient. \n",
    "// By lending ownership of a variable instead of transferring it, Rust ensures that only \n",
    "// one part of your program can modify the variable at a time, which helps prevent \n",
    "// bugs and makes it easier to reason about your code."
   ]
  },
  {
   "cell_type": "markdown",
   "metadata": {},
   "source": [
    "We can also make a new vector and iterate the old vector to copy the values"
   ]
  },
  {
   "cell_type": "code",
   "execution_count": 26,
   "metadata": {},
   "outputs": [],
   "source": [
    "fn return_vec( mut vector: &Vec<i32>) -> Vec<i32>{\n",
    "    let mut new_vector = Vec::new();\n",
    "    new_vector.push(15);\n",
    "    println!(\"{:?}\", new_vector);\n",
    "\n",
    "        // Return a clone of the modified vector\n",
    "        new_vector\n",
    "}"
   ]
  },
  {
   "cell_type": "code",
   "execution_count": 27,
   "metadata": {},
   "outputs": [
    {
     "name": "stdout",
     "output_type": "stream",
     "text": [
      "[15]\n",
      "[15]\n"
     ]
    }
   ],
   "source": [
    "let new_vector = return_vec(&my_vec);\n",
    "// but this is using my_vec which was borrowed (moved) and yet is now invalid\n",
    "println!(\"{:?}\", new_vector); // this will not compile!"
   ]
  },
  {
   "cell_type": "markdown",
   "metadata": {},
   "source": [
    "15-panic"
   ]
  },
  {
   "cell_type": "markdown",
   "metadata": {},
   "source": [
    "panic gives the a full stop to a program with a traceback on the issue. this is used to debug the location if errors is not good enough and you need more details"
   ]
  },
  {
   "cell_type": "code",
   "execution_count": 28,
   "metadata": {},
   "outputs": [],
   "source": [
    "fn loop_and_panic(numbers: Vec<i32>) {\n",
    "    for num in numbers {\n",
    "        if num < 0 {\n",
    "            panic!(\"Negative number found!\");\n",
    "        }\n",
    "        println!(\"Number: {}\", num);\n",
    "    }\n",
    "}"
   ]
  },
  {
   "cell_type": "code",
   "execution_count": 29,
   "metadata": {},
   "outputs": [
    {
     "name": "stdout",
     "output_type": "stream",
     "text": [
      "Number: 1\n",
      "Number: 2\n",
      "Number: 3\n",
      "Number: 4\n"
     ]
    },
    {
     "name": "stderr",
     "output_type": "stream",
     "text": [
      "thread '<unnamed>' panicked at src/lib.rs:49:13:\n",
      "Negative number found!\n",
      "stack backtrace:\n",
      "   0: rust_begin_unwind\n",
      "             at /rustc/82e1608dfa6e0b5569232559e3d385fea5a93112/library/std/src/panicking.rs:645:5\n",
      "   1: core::panicking::panic_fmt\n",
      "             at /rustc/82e1608dfa6e0b5569232559e3d385fea5a93112/library/core/src/panicking.rs:72:14\n",
      "   2: ctx::loop_and_panic\n",
      "   3: std::panicking::try\n",
      "   4: run_user_code_27\n",
      "   5: evcxr::runtime::Runtime::run_loop\n",
      "   6: evcxr::runtime::runtime_hook\n",
      "   7: evcxr_jupyter::main\n",
      "note: Some details are omitted, run with `RUST_BACKTRACE=full` for a verbose backtrace.\n"
     ]
    }
   ],
   "source": [
    "loop_and_panic(vec![1, 2, 3, 4, -5]);"
   ]
  },
  {
   "cell_type": "markdown",
   "metadata": {},
   "source": [
    "16-error-handling"
   ]
  },
  {
   "cell_type": "code",
   "execution_count": 30,
   "metadata": {},
   "outputs": [],
   "source": [
    "use std::fs::File;\n",
    "use std::io::{BufRead, BufReader};"
   ]
  },
  {
   "cell_type": "markdown",
   "metadata": {},
   "source": [
    "`error` is th return value of the matching function. "
   ]
  },
  {
   "cell_type": "code",
   "execution_count": 31,
   "metadata": {},
   "outputs": [
    {
     "name": "stderr",
     "output_type": "stream",
     "text": [
      "thread '<unnamed>' panicked at src/lib.rs:213:17:\n",
      "File not found: No such file or directory (os error 2)\n",
      "stack backtrace:\n",
      "   0: rust_begin_unwind\n",
      "             at /rustc/82e1608dfa6e0b5569232559e3d385fea5a93112/library/std/src/panicking.rs:645:5\n",
      "   1: core::panicking::panic_fmt\n",
      "             at /rustc/82e1608dfa6e0b5569232559e3d385fea5a93112/library/core/src/panicking.rs:72:14\n",
      "   2: <unknown>\n"
     ]
    }
   ],
   "source": [
    "let file = File::open(\"non_existent_file.txt\");\n",
    "let file = match file {\n",
    "    Ok(file) => file,\n",
    "    Err(error) => {\n",
    "        match error.kind() {\n",
    "            std::io::ErrorKind::NotFound => {\n",
    "                panic!(\"File not found: {}\", error)\n",
    "            }\n",
    "            _ => {\n",
    "                panic!(\"Error opening file: {}\", error)\n",
    "            }\n",
    "        }\n",
    "    }\n",
    "};\n",
    "\n",
    "let reader = BufReader::new(file);\n",
    "for line in reader.lines() {\n",
    "    match line {\n",
    "        Ok(line) => println!(\"{}\", line),\n",
    "        Err(error) => {\n",
    "            panic!(\"Error reading line: {}\", error)\n",
    "        }\n",
    "    }\n",
    "}"
   ]
  },
  {
   "cell_type": "markdown",
   "metadata": {},
   "source": [
    "if we do not want to panic:\n",
    "\n",
    "The `File::open` method returns a `Result<File, Error>`, and in the case of an error, you are printing an error message but not terminating the program or providing a valid value for file to continue.\n",
    "\n",
    "\n"
   ]
  },
  {
   "cell_type": "code",
   "execution_count": 32,
   "metadata": {},
   "outputs": [
    {
     "name": "stdout",
     "output_type": "stream",
     "text": [
      "File not found: No such file or directory (os error 2)\n"
     ]
    },
    {
     "name": "stderr",
     "output_type": "stream",
     "text": [
      "   4: evcxr::runtime::Runtime::run_loop\n"
     ]
    },
    {
     "name": "stdout",
     "output_type": "stream",
     "text": [
      "File not found: No such file or directory (os error 2)\n"
     ]
    },
    {
     "name": "stderr",
     "output_type": "stream",
     "text": [
      "   3: <unknown>\n"
     ]
    },
    {
     "name": "stdout",
     "output_type": "stream",
     "text": [
      "File not found: No such file or directory (os error 2)\n"
     ]
    }
   ],
   "source": [
    "let file = File::open(\"non_existent_file.txt\");\n",
    "let file = match file {\n",
    "    Ok(file) => file,\n",
    "    Err(error) => {\n",
    "        match error.kind() {\n",
    "            std::io::ErrorKind::NotFound => {\n",
    "                println!(\"File not found: {}\", error);\n",
    "                return; // Return early in case of error\n",
    "            }\n",
    "            _ => {\n",
    "                println!(\"Error opening file: {}\", error);\n",
    "                return; // Return early in case of error //ends program\n",
    "            }\n",
    "        }\n",
    "    }\n",
    "};\n",
    "\n",
    "println!(\"continuing\"); // this will not execute since we have already returned\n",
    "\n",
    "let reader = BufReader::new(file);\n",
    "for line in reader.lines() {\n",
    "    match line {\n",
    "        Ok(line) => println!(\"{}\", line),\n",
    "        Err(error) => {\n",
    "            panic!(\"Error reading line: {}\", error)\n",
    "        }\n",
    "    }\n",
    "}"
   ]
  },
  {
   "cell_type": "markdown",
   "metadata": {},
   "source": [
    "If we want to continue the program and handle the error we can make both are return a `option` with is a `enum` that returns a `None` or a `Some` we can later process."
   ]
  },
  {
   "cell_type": "code",
   "execution_count": 33,
   "metadata": {},
   "outputs": [
    {
     "name": "stderr",
     "output_type": "stream",
     "text": [
      "File not found: No such file or directory (os error 2)\n"
     ]
    }
   ],
   "source": [
    "use std::fs::File;\n",
    "use std::io::{self, BufRead, BufReader, Error};\n",
    "\n",
    "\n",
    "    let file = File::open(\"non_existent_file.txt\");\n",
    "    let file: Option<File> = match file {\n",
    "        Ok(file) => Some(file),\n",
    "        Err(error) => {\n",
    "            match error.kind() {\n",
    "                std::io::ErrorKind::NotFound => {\n",
    "                    eprintln!(\"File not found: {}\", error);\n",
    "                    // Continue with a default or placeholder value\n",
    "                    // For example, you might return an empty Vec<String>\n",
    "                    // or take some other appropriate action.\n",
    "                    None\n",
    "                }\n",
    "                _ => {\n",
    "                    eprintln!(\"Error opening file: {}\", error);\n",
    "                    // Continue with a default or placeholder value\n",
    "                    None\n",
    "                }\n",
    "            }\n",
    "        }\n",
    "    };\n",
    "\n",
    "println!(\"continue\");\n",
    "\n",
    "if let Some(file) = file { \n",
    "\n",
    "        let reader = BufReader::new(file);\n",
    "        for line in reader.lines() {\n",
    "            match line {\n",
    "                Ok(line) => println!(\"{}\", line),\n",
    "                Err(error) => {\n",
    "                    eprintln!(\"Error reading line: {}\", error);\n",
    "                    // Continue with a default or placeholder value\n",
    "                    continue;\n",
    "                }\n",
    "            }\n",
    "        }\n",
    "\n",
    "\n",
    "} else {\n",
    "    // Handle the case where the file is not found or there is an error opening it\n",
    "    println!(\"Unable to open the file.\");\n",
    "};\n",
    "\n"
   ]
  },
  {
   "cell_type": "markdown",
   "metadata": {},
   "source": [
    "I can also not map it to a variable and just do the read so the `match` will not have to be the compliant. "
   ]
  },
  {
   "cell_type": "markdown",
   "metadata": {},
   "source": [
    "\n",
    "In the line `println!(\"{}\", line.unwrap())`, `unwrap()` is a method provided by `Result<T, E>` in Rust. It's used to extract the value from an Ok variant of a `Result`, or to panic if the result is an `Err` variant.\n",
    "\n",
    "\n",
    "In this specific context:\n",
    "\n",
    "* If `line` is an `Ok` variant, `unwrap()` will return the inner value of the Ok, which is the actual line.\n",
    "* If `line` is an `Err` variant, `unwrap()` will panic, and your program will terminate with an error message.\n",
    "\n",
    "\n",
    "It's important to note that using `unwrap()` without checking the result first can be risky because it can lead to a panic if an error occurs. In a more robust program, you might want to handle the `Result` more gracefully using methods like `match`, `if` let, or `unwrap_or_else`, depending on your specific requirements.\n"
   ]
  },
  {
   "cell_type": "code",
   "execution_count": 34,
   "metadata": {},
   "outputs": [
    {
     "name": "stderr",
     "output_type": "stream",
     "text": [
      "File not found: No such file or directory (os error 2)\n"
     ]
    },
    {
     "name": "stdout",
     "output_type": "stream",
     "text": [
      "continue\n"
     ]
    },
    {
     "name": "stdout",
     "output_type": "stream",
     "text": [
      "continue\n"
     ]
    },
    {
     "name": "stderr",
     "output_type": "stream",
     "text": [
      "File not found: No such file or directory (os error 2)\n"
     ]
    },
    {
     "name": "stdout",
     "output_type": "stream",
     "text": [
      "continue\n"
     ]
    },
    {
     "name": "stderr",
     "output_type": "stream",
     "text": [
      "File not found: No such file or directory (os error 2)\n"
     ]
    }
   ],
   "source": [
    "\n",
    "let file = File::open(\"non_existent_file.txt\");\n",
    "match file {\n",
    "    Ok(file) => {\n",
    "        let reader = BufReader::new(file);\n",
    "        for line in reader.lines(){ \n",
    "            println!(\"{}\", line.unwrap())\n",
    "        }       \n",
    "    }\n",
    "    Err(error) => {\n",
    "        match error.kind() {\n",
    "            std::io::ErrorKind::NotFound => {\n",
    "                eprintln!(\"File not found: {}\", error);\n",
    "            }\n",
    "            _ => {\n",
    "                eprintln!(\"Error opening file: {}\", error);\n",
    "            }\n",
    "        }\n",
    "    }\n",
    "};\n",
    "println!(\"continue\");\n"
   ]
  },
  {
   "cell_type": "markdown",
   "metadata": {},
   "source": [
    "In this example, if an error occurs while reading a line, it prints an error message and substitutes the line with \"<Error>\" instead of panicking. Adjust the replacement value based on your specific need"
   ]
  },
  {
   "cell_type": "code",
   "execution_count": 35,
   "metadata": {},
   "outputs": [
    {
     "name": "stderr",
     "output_type": "stream",
     "text": [
      "File not found: No such file or directory (os error 2)\n"
     ]
    },
    {
     "name": "stdout",
     "output_type": "stream",
     "text": [
      "continue\n"
     ]
    },
    {
     "name": "stdout",
     "output_type": "stream",
     "text": [
      "continue\n"
     ]
    },
    {
     "name": "stderr",
     "output_type": "stream",
     "text": [
      "File not found: No such file or directory (os error 2)\n"
     ]
    },
    {
     "name": "stdout",
     "output_type": "stream",
     "text": [
      "continue\n"
     ]
    },
    {
     "name": "stderr",
     "output_type": "stream",
     "text": [
      "File not found: No such file or directory (os error 2)\n"
     ]
    }
   ],
   "source": [
    "use std::fs::File;\n",
    "use std::io::{self, BufRead, BufReader, Error};\n",
    "\n",
    "\n",
    "    let file_result = File::open(\"non_existent_file.txt\");\n",
    "\n",
    "    match file_result {\n",
    "        Ok(file) => {\n",
    "            let reader = BufReader::new(file);\n",
    "            for line in reader.lines() {\n",
    "                println!(\"{}\", line.unwrap_or_else(|err| {\n",
    "                    eprintln!(\"Error reading line: {}\", err);\n",
    "                    String::from(\"<Error>\") //  returns a new String with the content <Error>\n",
    "                }));\n",
    "            }\n",
    "        }\n",
    "        Err(error) => {\n",
    "            match error.kind() {\n",
    "                std::io::ErrorKind::NotFound => {\n",
    "                    eprintln!(\"File not found: {}\", error);\n",
    "                }\n",
    "                _ => {\n",
    "                    eprintln!(\"Error opening file: {}\", error);\n",
    "                }\n",
    "            }\n",
    "        }\n",
    "    }\n",
    "\n",
    "    println!(\"continue\");\n"
   ]
  },
  {
   "cell_type": "markdown",
   "metadata": {},
   "source": [
    "17-data-structures"
   ]
  },
  {
   "cell_type": "code",
   "execution_count": 36,
   "metadata": {},
   "outputs": [
    {
     "name": "stdout",
     "output_type": "stream",
     "text": [
      "continue\n"
     ]
    },
    {
     "name": "stdout",
     "output_type": "stream",
     "text": [
      "continue\n"
     ]
    }
   ],
   "source": [
    "// Structures allow for managing incoming and out going data, a place to store data\n",
    "// for later use it also allows us to guard against malformed data.\n",
    "//\n",
    "\n",
    "#[derive(Debug)]\n",
    "pub struct Data {\n",
    "   pub name: String,\n",
    "   pub age: u8,\n",
    "}\n",
    "\n",
    "\n",
    "// Enumerators or Enums allow to classify data into meaningful tokens\n",
    "//\n",
    "#[derive(Debug)]\n",
    "pub enum Direction {\n",
    "        North,\n",
    "        East,\n",
    "        South,\n",
    "        West,\n",
    "    }"
   ]
  },
  {
   "cell_type": "code",
   "execution_count": 37,
   "metadata": {},
   "outputs": [],
   "source": [
    "//mod data;\n",
    "// use data::{Data, Direction};\n"
   ]
  },
  {
   "cell_type": "code",
   "execution_count": 38,
   "metadata": {},
   "outputs": [
    {
     "name": "stdout",
     "output_type": "stream",
     "text": [
      "Hello, toure\n",
      "Your favorite number is 42\n"
     ]
    }
   ],
   "source": [
    "\n",
    "\n",
    "    // Create an instance of out Data structure and populate it with data\n",
    "    // for later use.\n",
    "    let new_data = Data{name:\"toure\".to_string(), age:42};\n",
    "\n",
    "    // Here we reference the name and age fields in our instance of the Data with\n",
    "    // the dot notation\n",
    "    println!(\"Hello, {}\", new_data.name);\n",
    "    println!(\"Your favorite number is {}\", new_data.age);\n",
    "\n",
    "   // initialize and access enum variants\n",
    "    let north = Direction::North;\n",
    "    let east = Direction::East;\n",
    "    let south = Direction::South;\n",
    "    let west = Direction::West;\n",
    "\n",
    "    // print enum values with make use of the debug marker \":?\" as the data type does\n",
    "    // not implement the display trait (traits are covered later)\n",
    "    println!(\"{:?}\", north);\n",
    "    println!(\"{:?}\", east);\n",
    "    println!(\"{:?}\", south);\n",
    "    println!(\"{:?}\", west);\n"
   ]
  },
  {
   "cell_type": "markdown",
   "metadata": {},
   "source": [
    "## Structs, Types, and Enums"
   ]
  },
  {
   "cell_type": "markdown",
   "metadata": {},
   "source": [
    "### Using structured data\n"
   ]
  },
  {
   "cell_type": "code",
   "execution_count": 39,
   "metadata": {},
   "outputs": [
    {
     "name": "stdout",
     "output_type": "stream",
     "text": [
      "North\n"
     ]
    }
   ],
   "source": [
    "\n",
    "#[derive(Debug)]\n",
    "struct Person {\n",
    "    first_name: String,\n",
    "    last_name: String,\n",
    "    age: u8,\n",
    "}"
   ]
  },
  {
   "cell_type": "code",
   "execution_count": 40,
   "metadata": {},
   "outputs": [
    {
     "name": "stdout",
     "output_type": "stream",
     "text": [
      "Person { first_name: \"John\", last_name: \"Doe\", age: 25 }\n"
     ]
    }
   ],
   "source": [
    "println!(\"{:?}\", Person {\n",
    "    first_name: \"John\".to_string(),\n",
    "    last_name: \"Doe\".to_string(),\n",
    "    age: 25,\n",
    "});"
   ]
  },
  {
   "cell_type": "markdown",
   "metadata": {},
   "source": [
    "#### Creating a struct"
   ]
  },
  {
   "cell_type": "code",
   "execution_count": 41,
   "metadata": {},
   "outputs": [],
   "source": [
    "struct People {\n",
    "    first_name: String,\n",
    "    last_name: String,\n",
    "    age: Option<u8>,\n",
    "}"
   ]
  },
  {
   "cell_type": "code",
   "execution_count": 42,
   "metadata": {},
   "outputs": [
    {
     "name": "stdout",
     "output_type": "stream",
     "text": [
      "The person's first name is: Alfredo\n",
      "The person's age is: Some(23)\n"
     ]
    }
   ],
   "source": [
    "let alfredo = People{\n",
    "    first_name: \"Alfredo\".to_string(),\n",
    "    last_name: \"Sanchez\".to_string(),\n",
    "    age: Some(23),\n",
    "};\n",
    "println!(\"The person's first name is: {}\", alfredo.first_name);\n",
    "println!(\"The person's age is: {:?}\", alfredo.age);"
   ]
  },
  {
   "cell_type": "markdown",
   "metadata": {},
   "source": [
    "#### Associaed-function"
   ]
  },
  {
   "cell_type": "markdown",
   "metadata": {},
   "source": [
    "`impl` extends the struct to be able to use `new`. `impl` is the contractor and the `fn` in them are the conventions. \n",
    "\n",
    "\n",
    "we can abstract some elements. like `active` or some other code like `id`"
   ]
  },
  {
   "cell_type": "code",
   "execution_count": 43,
   "metadata": {},
   "outputs": [],
   "source": [
    "struct User {\n",
    "    username: String,\n",
    "    email: String,\n",
    "    uri: String,\n",
    "    active: bool,\n",
    "}"
   ]
  },
  {
   "cell_type": "markdown",
   "metadata": {},
   "source": [
    "conventions can use `self` but the tpyical way in to not use `self` as we did with the new convention and use use `&mut self`"
   ]
  },
  {
   "cell_type": "code",
   "execution_count": 44,
   "metadata": {},
   "outputs": [],
   "source": [
    "impl User {\n",
    "    fn new(username: String, email: String, uri: String) -> Self {\n",
    "        Self {\n",
    "            username,\n",
    "            email,\n",
    "            uri,\n",
    "            active: true,\n",
    "        }\n",
    "    }\n",
    "    fn deactivate(&mut self) {\n",
    "        self.active = false;\n",
    "    }\n",
    "}\n"
   ]
  },
  {
   "cell_type": "code",
   "execution_count": 45,
   "metadata": {},
   "outputs": [
    {
     "name": "stdout",
     "output_type": "stream",
     "text": [
      "Hello, alfredodeza!\n",
      "Account alfredodeza status is: true\n",
      "Account alfredodeza status is: false\n"
     ]
    }
   ],
   "source": [
    "let mut new_user = User::new(\n",
    "    String::from(\"alfredodeza\"),\n",
    "    String::from(\"alfreodeza@example.com\"),\n",
    "    String::from(\"https://alfredodeza.com\"),\n",
    ");\n",
    "println!(\"Hello, {}!\", new_user.username);\n",
    "println!(\"Account {} status is: {}\", new_user.username, new_user.active);\n",
    "new_user.deactivate();\n",
    "println!(\"Account {} status is: {}\", new_user.username, new_user.active);"
   ]
  },
  {
   "cell_type": "markdown",
   "metadata": {},
   "source": [
    "#### Methods"
   ]
  },
  {
   "cell_type": "code",
   "execution_count": 46,
   "metadata": {},
   "outputs": [],
   "source": [
    "struct Member {\n",
    "    username: String,\n",
    "    email: String,\n",
    "    uri: String,\n",
    "    active: bool,\n",
    "}"
   ]
  },
  {
   "cell_type": "code",
   "execution_count": 47,
   "metadata": {},
   "outputs": [],
   "source": [
    "impl Member {\n",
    "    fn new(username: String, email: String, uri: String) -> Self {\n",
    "        Self {\n",
    "            username,\n",
    "            email,\n",
    "            uri,\n",
    "            active: true,\n",
    "        }\n",
    "    }\n",
    "    fn deactivate(&mut self) {\n",
    "        self.active = false;\n",
    "    }\n",
    "}"
   ]
  },
  {
   "cell_type": "code",
   "execution_count": 48,
   "metadata": {},
   "outputs": [
    {
     "name": "stdout",
     "output_type": "stream",
     "text": [
      "Hello, alfredodeza!\n",
      "Account alfredodeza status is: true\n",
      "Account alfredodeza status is: false\n"
     ]
    }
   ],
   "source": [
    "let mut new_user = Member::new(\n",
    "    String::from(\"alfredodeza\"),\n",
    "    String::from(\"alfreodeza@example.com\"),\n",
    "    String::from(\"https://alfredodeza.com\"),\n",
    ");\n",
    "println!(\"Hello, {}!\", new_user.username);\n",
    "println!(\"Account {} status is: {}\", new_user.username, new_user.active);\n",
    "new_user.deactivate();\n",
    "println!(\"Account {} status is: {}\", new_user.username, new_user.active);"
   ]
  },
  {
   "cell_type": "markdown",
   "metadata": {},
   "source": [
    "More structs"
   ]
  },
  {
   "cell_type": "code",
   "execution_count": 49,
   "metadata": {},
   "outputs": [],
   "source": [
    "#[derive(Debug)]\n",
    "struct Citizen {\n",
    "    username: String,\n",
    "    email: String,\n",
    "    uri: String,\n",
    "    active: bool,\n",
    "}"
   ]
  },
  {
   "cell_type": "code",
   "execution_count": 50,
   "metadata": {},
   "outputs": [],
   "source": [
    "struct Point(i32, i32, i32);\n"
   ]
  },
  {
   "cell_type": "code",
   "execution_count": 51,
   "metadata": {},
   "outputs": [
    {
     "name": "stdout",
     "output_type": "stream",
     "text": [
      "points: 10\n",
      "Citizen { username: \"johndoe\", email: \"john@example.com\", uri: \"https://example.com\", active: true }\n"
     ]
    }
   ],
   "source": [
    "let username = String::from(\"johndoe\");\n",
    "let email = String::from(\"john@example.com\");\n",
    "let uri = String::from(\"https://example.com\");\n",
    "let active=  true;\n",
    "\n",
    "let user = Citizen { username, email, uri, active };\n",
    "let my_point = Point(10, 20, 30);\n",
    "println!(\"points: {}\", my_point.0);\n",
    "println!(\"{:?}\", user);"
   ]
  },
  {
   "cell_type": "markdown",
   "metadata": {},
   "source": [
    "### Exploring strings and vectors\n"
   ]
  },
  {
   "cell_type": "markdown",
   "metadata": {},
   "source": [
    "`&str` is a string slice\n",
    "`String` is a string `type`\n",
    "\n",
    "\n",
    "`&str` can not be mutated. We can create a new string to edit it. `to_strng()` can convert `str` to string type\n",
    "- we can also use `format!` macro to make strings."
   ]
  },
  {
   "cell_type": "code",
   "execution_count": 52,
   "metadata": {},
   "outputs": [],
   "source": [
    "fn print_str(s: &str) {\n",
    "    let new_string = format!(\"{}! other stuff here\", s);\n",
    "    println!(\"{}\", new_string);\n",
    "}"
   ]
  },
  {
   "cell_type": "code",
   "execution_count": 53,
   "metadata": {},
   "outputs": [],
   "source": [
    "fn print_string(mut s: String) {\n",
    "    println!(\"{}\", s);\n",
    "}\n"
   ]
  },
  {
   "cell_type": "code",
   "execution_count": 54,
   "metadata": {},
   "outputs": [
    {
     "name": "stdout",
     "output_type": "stream",
     "text": [
      "hello, world!! other stuff here\n",
      "hello\n"
     ]
    }
   ],
   "source": [
    "let s = \"hello, world!\";\n",
    "print_str(s);\n",
    "\n",
    "// String is growable and mutable whereas str is not.\n",
    "// String is owned by the code that creates it\n",
    "let mut salutation = String::from(\"hello\");\n",
    "print_string(salutation);\n"
   ]
  },
  {
   "cell_type": "markdown",
   "metadata": {},
   "source": [
    "Manipulation"
   ]
  },
  {
   "cell_type": "code",
   "execution_count": 55,
   "metadata": {},
   "outputs": [
    {
     "name": "stdout",
     "output_type": "stream",
     "text": [
      "the q\n"
     ]
    }
   ],
   "source": [
    "let sentence = \"the quick brown fox jumps over the lazy dog\".to_string();\n",
    "// Use slicing to get the first three characters of the sentence\n",
    "println!(\"{}\", &sentence[0..=4]);"
   ]
  },
  {
   "cell_type": "code",
   "execution_count": 56,
   "metadata": {},
   "outputs": [
    {
     "name": "stdout",
     "output_type": "stream",
     "text": [
      "Title: Quick story\n",
      "the quick brown fox jumps over the lazy dog\n"
     ]
    }
   ],
   "source": [
    "// concatenate using format!\n",
    "let description = format!(\"Title: Quick story\\n{}\", sentence);\n",
    "println!(\"{}\", description);\n"
   ]
  },
  {
   "cell_type": "code",
   "execution_count": 57,
   "metadata": {},
   "outputs": [
    {
     "name": "stdout",
     "output_type": "stream",
     "text": [
      "Got a vowel!\n"
     ]
    }
   ],
   "source": [
    "\n",
    "//iterate over the characters in the sentence\n",
    "for c in sentence.chars() {\n",
    "    match c {\n",
    "        'a' | 'e' | 'i' | 'o' | 'u' => println!(\"Got a vowel!\"),\n",
    "        _ => continue,\n",
    "    }\n",
    "};"
   ]
  },
  {
   "cell_type": "code",
   "execution_count": 58,
   "metadata": {},
   "outputs": [
    {
     "name": "stdout",
     "output_type": "stream",
     "text": [
      "[\"the\", \"quick\", \"brown\", \"fox\", \"jumps\", \"over\", \"the\", \"lazy\", \"dog\"]\n",
      "[\"the\", \"quick\", \"brown\", \"fox\", \"jumps\", \"over\", \"the\", \"lazy\", \"dog\"]\n"
     ]
    },
    {
     "name": "stdout",
     "output_type": "stream",
     "text": [
      "Got a vowel!\n"
     ]
    },
    {
     "name": "stdout",
     "output_type": "stream",
     "text": [
      "[\"the\", \"quick\", \"brown\", \"fox\", \"jumps\", \"over\", \"the\", \"lazy\", \"dog\"]\n",
      "[\"the\", \"quick\", \"brown\", \"fox\", \"jumps\", \"over\", \"the\", \"lazy\", \"dog\"]\n"
     ]
    }
   ],
   "source": [
    "// Split and collect into a vector\n",
    "\n",
    "{\n",
    "    let words: Vec<&str> = sentence.split_whitespace().collect();\n",
    "    println!(\"{:?}\", words);\n",
    "}\n",
    "\n",
    "{\n",
    "    let words = sentence.split(' ').collect::<Vec<&str>>();\n",
    "    println!(\"{:?}\", words);\n",
    "};"
   ]
  },
  {
   "cell_type": "code",
   "execution_count": 59,
   "metadata": {},
   "outputs": [
    {
     "name": "stdout",
     "output_type": "stream",
     "text": [
      "god yzal eht revo spmuj xof nworb kciuq eht\n"
     ]
    }
   ],
   "source": [
    "let reversed = sentence.chars().rev().collect::<String>();\n",
    "println!(\"{}\", reversed);"
   ]
  },
  {
   "cell_type": "markdown",
   "metadata": {},
   "source": [
    "Vectors"
   ]
  },
  {
   "cell_type": "markdown",
   "metadata": {},
   "source": [
    "    Use slices when: \n",
    "- you want to borrow a portion of a collection rather than the whole collection\n",
    "- you want to pass around a reference to a sequence of items without copying them\n",
    "- you want to access a subset of a collection without copying\n",
    "Use vectors when:\n",
    "- you need to dynamically grow or shrink your collection\n",
    "- you need to own the collection and transfer ownership to another scope"
   ]
  },
  {
   "cell_type": "markdown",
   "metadata": {},
   "source": [
    "`..` mean full range"
   ]
  },
  {
   "cell_type": "code",
   "execution_count": 60,
   "metadata": {},
   "outputs": [],
   "source": [
    "fn ownership() {\n",
    "    let numbers = vec![1, 2, 3];\n",
    "    let slice = &numbers[..]; // creates a slice of all elements in numbers\n",
    "    println!(\"slice = {:?}\", slice);\n",
    "}"
   ]
  },
  {
   "cell_type": "code",
   "execution_count": 61,
   "metadata": {},
   "outputs": [
    {
     "name": "stdout",
     "output_type": "stream",
     "text": [
      "slice = [1, 2, 3]\n"
     ]
    }
   ],
   "source": [
    "ownership();"
   ]
  },
  {
   "cell_type": "markdown",
   "metadata": {},
   "source": [
    "you can not borrow mutable and immutable slices. or multiple mutable slices."
   ]
  },
  {
   "cell_type": "code",
   "execution_count": 62,
   "metadata": {},
   "outputs": [],
   "source": [
    "fn modifiable() {\n",
    "    let mut numbers = vec![1, 2, 3];\n",
    "    let slice = &mut numbers[..]; // creates a slice of all elements in numbers\n",
    "    slice[0] = 10;\n",
    "    \n",
    "    // This would fail!\n",
    "    //let other_slice = &numbers[..];\n",
    "    println!(\"slice = {:?}\", slice);\n",
    "}"
   ]
  },
  {
   "cell_type": "code",
   "execution_count": 63,
   "metadata": {},
   "outputs": [
    {
     "name": "stdout",
     "output_type": "stream",
     "text": [
      "slice = [10, 2, 3]\n"
     ]
    }
   ],
   "source": [
    "// slices and vectors are similar. But slices are immutable depending on how they are borrowed\n",
    "//ownership();\n",
    "modifiable();\n"
   ]
  },
  {
   "cell_type": "markdown",
   "metadata": {},
   "source": [
    "#### Vector Value"
   ]
  },
  {
   "cell_type": "markdown",
   "metadata": {},
   "source": [
    "we can not index by `u8` as a index, we need to use `usize`. `usize`   can be variable bytes."
   ]
  },
  {
   "cell_type": "code",
   "execution_count": 64,
   "metadata": {},
   "outputs": [],
   "source": [
    "\n",
    "fn get_item(index: usize) {\n",
    "    //let index = 3; // this looks like an unsigned integer, but it's actually a usize\n",
    "    let vec = vec![1, 2, 3, 4, 5];\n",
    "\n",
    "    // Retrieve a value at a specific index\n",
    "    let value = vec.get(index).unwrap();\n",
    "\n",
    "    // print the value\n",
    "    println!(\"The value at index {} is {:?}\", index, value);\n",
    "}\n"
   ]
  },
  {
   "cell_type": "code",
   "execution_count": 65,
   "metadata": {},
   "outputs": [
    {
     "name": "stdout",
     "output_type": "stream",
     "text": [
      "The value at index 3 is 4\n"
     ]
    }
   ],
   "source": [
    "let vec = vec![1, 2, 3, 4, 5];\n",
    "get_item(3);"
   ]
  },
  {
   "cell_type": "markdown",
   "metadata": {},
   "source": [
    "if the vector is empty. this will nt work"
   ]
  },
  {
   "cell_type": "code",
   "execution_count": 66,
   "metadata": {},
   "outputs": [
    {
     "name": "stdout",
     "output_type": "stream",
     "text": [
      "The third value in the vector is: 3\n"
     ]
    }
   ],
   "source": [
    "// Retrieve a value at a specific index\n",
    "let third_value = vec[2];\n",
    "println!(\"The third value in the vector is: {}\", third_value);"
   ]
  },
  {
   "cell_type": "code",
   "execution_count": 67,
   "metadata": {},
   "outputs": [
    {
     "name": "stdout",
     "output_type": "stream",
     "text": [
      "The last value in the vector is: 5\n"
     ]
    }
   ],
   "source": [
    "// Retrieve the last value\n",
    "\n",
    "{\n",
    "    let last_value = vec.last().unwrap();\n",
    "    println!(\"The last value in the vector is: {}\", last_value);\n",
    "};"
   ]
  },
  {
   "cell_type": "code",
   "execution_count": 68,
   "metadata": {},
   "outputs": [
    {
     "name": "stdout",
     "output_type": "stream",
     "text": [
      "The first value in the vector is: 1\n"
     ]
    }
   ],
   "source": [
    "\n",
    "\n",
    "// Retrieve the first value using pattern matching\n",
    "match vec.first() {\n",
    "    Some(first_value) => println!(\"The first value in the vector is: {}\", first_value),\n",
    "    None => println!(\"The vector is empty!\"),\n",
    "};"
   ]
  },
  {
   "cell_type": "markdown",
   "metadata": {},
   "source": [
    "vector element"
   ]
  },
  {
   "cell_type": "markdown",
   "metadata": {},
   "source": [
    "* `push` and `extend` add elements to the end of the vector.\n",
    "* `append` adds elements from another vector to the end of the calling vector.\n",
    "* `insert` inserts a single element at a specified index, shifting other elements as "
   ]
  },
  {
   "cell_type": "markdown",
   "metadata": {},
   "source": [
    "**push**:\n",
    "\n",
    "* **Method Signature:** `fn push(&mut self, value: T)`.\n",
    "* **Description:** Adds a single element to the end of the vector."
   ]
  },
  {
   "cell_type": "code",
   "execution_count": 69,
   "metadata": {},
   "outputs": [
    {
     "name": "stdout",
     "output_type": "stream",
     "text": [
      "[1, 2, 3, 4]\n"
     ]
    }
   ],
   "source": [
    "let mut v = vec![1, 2, 3];\n",
    "v.push(4);\n",
    "println!(\"{:?}\", v); // Output: [1, 2, 3, 4]\n"
   ]
  },
  {
   "cell_type": "markdown",
   "metadata": {},
   "source": [
    "`extend` needs an iterator\n",
    "**extend:**\n",
    "\n",
    "* **Method Signature:** `fn extend<I>(&mut self, iterable: I)` where I: `IntoIterator<Item = T>`.\n",
    "* **Description:** Appends elements from an iterable (anything that implements IntoIterator) to the end of the vector."
   ]
  },
  {
   "cell_type": "code",
   "execution_count": 70,
   "metadata": {},
   "outputs": [
    {
     "name": "stdout",
     "output_type": "stream",
     "text": [
      "[1, 2, 3, 4, 5, 6]\n"
     ]
    }
   ],
   "source": [
    "// extend adds each element of the given slice to the vector\n",
    "let more_numbers = vec![5, 6];\n",
    "v.extend(more_numbers);\n",
    "println!(\"{:?}\", v);\n"
   ]
  },
  {
   "cell_type": "markdown",
   "metadata": {},
   "source": [
    "`append` does not need an iterator.\n",
    "\n",
    "the variable has to be mutable. \n",
    "\n",
    "* **Method Signature:** `fn append(&mut self, other: &mut Vec<T>)`.\n",
    "* **Description:** Appends the elements of another vector (other) to the end of the calling vector (self). This consumes other."
   ]
  },
  {
   "cell_type": "code",
   "execution_count": 71,
   "metadata": {},
   "outputs": [
    {
     "name": "stdout",
     "output_type": "stream",
     "text": [
      "[1, 2, 3, 4, 5, 6, 7, 8]\n"
     ]
    }
   ],
   "source": [
    "// append adds the given vector to the vector, requires the vector to be mutable\n",
    "let mut other_numbers = vec![7, 8];\n",
    "v.append(&mut other_numbers);\n",
    "println!(\"{:?}\", v);"
   ]
  },
  {
   "cell_type": "markdown",
   "metadata": {},
   "source": [
    "`insert` can add at a certain index\n",
    "\n",
    "**insert:**\n",
    "\n",
    "* **Method Signature:** `fn insert(&mut self, index: usize, element: T)`.\n",
    "* **Description:** Inserts a single element at the specified index in the vector. Elements after the insertion point are shifted to make room."
   ]
  },
  {
   "cell_type": "code",
   "execution_count": 72,
   "metadata": {},
   "outputs": [
    {
     "name": "stdout",
     "output_type": "stream",
     "text": [
      "[0, 1, 2, 3, 4, 5, 6, 7, 8]\n"
     ]
    }
   ],
   "source": [
    "// insert items at a given index\n",
    "v.insert(0, 0);\n",
    "println!(\"{:?}\", v); // Output: [0, 1, 2, 3, 4, 5, 6, 7, 8] "
   ]
  },
  {
   "cell_type": "markdown",
   "metadata": {},
   "source": [
    "### Working with Enum and Variants"
   ]
  },
  {
   "cell_type": "markdown",
   "metadata": {},
   "source": [
    "enum are enumerator. it is a way to group a category. it have different variant of a type. a list of constant values with developer-friendly names. They're used in programming to commonly used to establish a set of predefined values that a variable can take"
   ]
  },
  {
   "cell_type": "code",
   "execution_count": 73,
   "metadata": {},
   "outputs": [],
   "source": [
    "enum DiskType {\n",
    "    SSD,\n",
    "    HDD,\n",
    "}\n",
    "\n",
    "#[derive(Debug)]\n",
    "enum DiskSize {\n",
    "    KB(u32),\n",
    "    MB(u32),\n",
    "    GB(u32),\n",
    "}\n"
   ]
  },
  {
   "cell_type": "markdown",
   "metadata": {},
   "source": [
    "to compare enums you have to use a `match` function and can not use the `==` comparator "
   ]
  },
  {
   "cell_type": "code",
   "execution_count": 74,
   "metadata": {},
   "outputs": [],
   "source": [
    "let disk_type = DiskType::SSD;\n",
    "\n",
    "// Can't compare them like this!\n",
    "\n",
    "// if disk_type == DiskType::SSD {\n",
    "//     println!(\"Disk type is SSD\");\n",
    "// } else {\n",
    "//     println!(\"Disk type is HDD\");\n",
    "// }\n"
   ]
  },
  {
   "cell_type": "code",
   "execution_count": 75,
   "metadata": {},
   "outputs": [
    {
     "name": "stdout",
     "output_type": "stream",
     "text": [
      "Disk type is SSD\n"
     ]
    }
   ],
   "source": [
    "\n",
    "match disk_type {\n",
    "    DiskType::SSD => println!(\"Disk type is SSD\"),\n",
    "    DiskType::HDD => println!(\"Disk type is HDD\"),\n",
    "}\n",
    "let disk_size = DiskSize::GB(128);\n",
    "println!(\"{:?}\", disk_size);"
   ]
  },
  {
   "cell_type": "markdown",
   "metadata": {},
   "source": [
    "enum types"
   ]
  },
  {
   "cell_type": "code",
   "execution_count": 76,
   "metadata": {},
   "outputs": [
    {
     "name": "stdout",
     "output_type": "stream",
     "text": [
      "GB(128)\n"
     ]
    }
   ],
   "source": [
    "#[derive(Debug)]\n",
    "enum WineRegions {\n",
    "    Bordeaux,\n",
    "    Burgundy,\n",
    "    Champagne,\n",
    "    Tuscany,\n",
    "    Rioja,\n",
    "    NapaValley,\n",
    "}"
   ]
  },
  {
   "cell_type": "code",
   "execution_count": 77,
   "metadata": {},
   "outputs": [],
   "source": [
    "struct Wine {\n",
    "    name: String,\n",
    "    region: WineRegions, // wine regions used as a type\n",
    "    \n",
    "}\n"
   ]
  },
  {
   "cell_type": "code",
   "execution_count": 78,
   "metadata": {},
   "outputs": [],
   "source": [
    "fn supported_regions(w: WineRegions) {\n",
    "    match w {\n",
    "        WineRegions::Rioja => println!(\"Rioja is supported!\"),\n",
    "        _ => println!(\"{:?} is not supported!\", w),\n",
    "        \n",
    "    }\n",
    "}"
   ]
  },
  {
   "cell_type": "code",
   "execution_count": 79,
   "metadata": {},
   "outputs": [
    {
     "name": "stdout",
     "output_type": "stream",
     "text": [
      "Bordeaux is not supported!\n",
      "Rioja is supported!\n"
     ]
    }
   ],
   "source": [
    "let wine1 = Wine {\n",
    "    name: String::from(\"Chateau Margaux\"),\n",
    "    region: WineRegions::Bordeaux,\n",
    "};\n",
    "\n",
    "let wine2 = Wine {\n",
    "    name: String::from(\"Barolo\"),\n",
    "    region: WineRegions::Tuscany,\n",
    "};\n",
    "\n",
    "// println!(\"Wine 1: {} from {:?}\", wine1.name, wine1.region);\n",
    "// println!(\"Wine 2: {} from {:?}\", wine2.name, wine2.region);\n",
    "supported_regions(wine1.region);\n",
    "supported_regions(WineRegions::Rioja);"
   ]
  },
  {
   "cell_type": "markdown",
   "metadata": {},
   "source": [
    "option-enum"
   ]
  },
  {
   "cell_type": "markdown",
   "metadata": {},
   "source": [
    "`options` are a enumerator that can give you a `None` or a `Some` value. You must use `unwrap()` to get the value from an `option`. `unwrap` can not process `None`"
   ]
  },
  {
   "cell_type": "code",
   "execution_count": 80,
   "metadata": {},
   "outputs": [],
   "source": [
    "fn divide(x: i32, y: i32) -> Option<i32> {\n",
    "    if y == 0 {\n",
    "        None // This is valid because it is the other variant of Option\n",
    "    } else {\n",
    "        Some(x / y) // Creates the Option<i32> value. Some() creates a new instance of Option\n",
    "    }\n",
    "}"
   ]
  },
  {
   "cell_type": "code",
   "execution_count": 81,
   "metadata": {},
   "outputs": [
    {
     "name": "stdout",
     "output_type": "stream",
     "text": [
      "Result: 3\n"
     ]
    }
   ],
   "source": [
    "let a = 10;\n",
    "let b = 3;\n",
    "\n",
    "let result = divide(a, b);\n",
    "\n",
    "match result {\n",
    "    Some(x) => println!(\"Result: {}\", x),\n",
    "    None => println!(\"Error: division by zero\"),\n",
    "};"
   ]
  },
  {
   "cell_type": "markdown",
   "metadata": {},
   "source": [
    "14-match-enums"
   ]
  },
  {
   "cell_type": "code",
   "execution_count": 82,
   "metadata": {},
   "outputs": [],
   "source": [
    "enum FileSize {\n",
    "    Bytes(f64),\n",
    "    Kilobytes(f64),\n",
    "    Megabytes(f64),\n",
    "    Gigabytes(f64),\n",
    "}\n"
   ]
  },
  {
   "cell_type": "code",
   "execution_count": 86,
   "metadata": {},
   "outputs": [],
   "source": [
    "fn format_size(size: f64) -> String {\n",
    "    let filesize = match size {\n",
    "        0.0..=999.0 => FileSize::Bytes(size),\n",
    "        1000.0..=999_999.0 => FileSize::Kilobytes(size / 1000.0),\n",
    "        1_000_000.0..=999_999_999.0 => FileSize::Megabytes(size / 1_000_000.0),\n",
    "        _ => FileSize::Gigabytes(size / 1_000_000_000.0),\n",
    "    };\n",
    "\n",
    "    match filesize {\n",
    "        FileSize::Bytes(bytes) => format!(\"{} bytes\", bytes),\n",
    "        FileSize::Kilobytes(kb) => format!(\"{:.2} KB\", kb as f64 ),\n",
    "        FileSize::Megabytes(mb) => format!(\"{:.2} MB\", mb as f64),\n",
    "        FileSize::Gigabytes(gb) => format!(\"{:.2} GB\", gb as f64),\n",
    "    }\n",
    "}"
   ]
  },
  {
   "cell_type": "code",
   "execution_count": 88,
   "metadata": {},
   "outputs": [
    {
     "name": "stdout",
     "output_type": "stream",
     "text": [
      "688.84 MB\n"
     ]
    }
   ],
   "source": [
    "let result = format_size(688837399.0);\n",
    "println!(\"{}\", result);"
   ]
  },
  {
   "cell_type": "markdown",
   "metadata": {},
   "source": [
    "make a associated funntion:"
   ]
  },
  {
   "cell_type": "code",
   "execution_count": 92,
   "metadata": {},
   "outputs": [],
   "source": [
    "impl FileSize {\n",
    "    fn format_size(&self) -> String {   \n",
    "        match self {\n",
    "            FileSize::Bytes(bytes) => format!(\"{} bytes\", bytes),\n",
    "            FileSize::Kilobytes(kb) => format!(\"{:.2} KB\", kb as &f64 ),\n",
    "            FileSize::Megabytes(mb) => format!(\"{:.2} MB\", mb as &f64),\n",
    "            FileSize::Gigabytes(gb) => format!(\"{:.2} GB\", gb as &f64),\n",
    "        }\n",
    "    }\n",
    "    \n",
    "}\n"
   ]
  },
  {
   "cell_type": "code",
   "execution_count": 95,
   "metadata": {},
   "outputs": [
    {
     "name": "stdout",
     "output_type": "stream",
     "text": [
      "688.84 MB\n"
     ]
    }
   ],
   "source": [
    "let size = 688837399.0;\n",
    "let filesize = match size {\n",
    "    0.0..=999.0 => FileSize::Bytes(size),\n",
    "    1000.0..=999_999.0 => FileSize::Kilobytes(size / 1000.0),\n",
    "    1_000_000.0..=999_999_999.0 => FileSize::Megabytes(size / 1_000_000.0),\n",
    "    _ => FileSize::Gigabytes(size / 1_000_000_000.0),\n",
    "};\n",
    "\n",
    "println!(\"{}\", filesize.format_size());"
   ]
  },
  {
   "cell_type": "markdown",
   "metadata": {},
   "source": [
    "15-enums-vectors"
   ]
  },
  {
   "cell_type": "code",
   "execution_count": 2,
   "metadata": {},
   "outputs": [],
   "source": [
    "enum Shape {\n",
    "    Circle(f64),\n",
    "    Square(f64),\n",
    "}"
   ]
  },
  {
   "cell_type": "code",
   "execution_count": 3,
   "metadata": {},
   "outputs": [
    {
     "name": "stdout",
     "output_type": "stream",
     "text": [
      "Total area: 87.53981633974483 sq. units\n"
     ]
    }
   ],
   "source": [
    "let shapes = vec![Shape::Circle(5.0), Shape::Square(3.0)];\n",
    "\n",
    "let total_area: f64 = shapes\n",
    "    .iter()\n",
    "    .map(|shape| match shape {\n",
    "        Shape::Circle(radius) => std::f64::consts::PI * radius * radius,\n",
    "        Shape::Square(length) => length * length,\n",
    "    })\n",
    "    .sum();\n",
    "\n",
    "println!(\"Total area: {} sq. units\", total_area);"
   ]
  },
  {
   "cell_type": "markdown",
   "metadata": {},
   "source": [
    "16-exhaustive"
   ]
  },
  {
   "cell_type": "markdown",
   "metadata": {},
   "source": [
    "Match has make case for all variants. so we need the `_` as a catch all or explicitly handle all cases  "
   ]
  },
  {
   "cell_type": "code",
   "execution_count": 2,
   "metadata": {},
   "outputs": [],
   "source": [
    "enum WineGrapes {\n",
    "    CabernetFranc,\n",
    "    Tannat,\n",
    "    Merlot,\n",
    "}\n",
    "\n"
   ]
  },
  {
   "cell_type": "code",
   "execution_count": 3,
   "metadata": {},
   "outputs": [],
   "source": [
    "fn taste_wine(grapes: WineGrapes) {\n",
    "    match grapes {\n",
    "        // WineGrapes::CabernetFranc => println!(\"This is a Cabertnet Franc wine.\"),\n",
    "        // WineGrapes::Tannat => println!(\"This is a Tannat wine.\"),\n",
    "        WineGrapes::Merlot => println!(\"This is a Merlot wine.\"),\n",
    "        _ => println!(\"everthing else\")\n",
    "    }\n",
    "}"
   ]
  },
  {
   "cell_type": "code",
   "execution_count": 4,
   "metadata": {},
   "outputs": [
    {
     "name": "stdout",
     "output_type": "stream",
     "text": [
      "everthing else\n"
     ]
    }
   ],
   "source": [
    "taste_wine(WineGrapes::CabernetFranc);"
   ]
  },
  {
   "cell_type": "markdown",
   "metadata": {},
   "source": [
    "### Public functions"
   ]
  },
  {
   "cell_type": "code",
   "execution_count": 13,
   "metadata": {},
   "outputs": [
    {
     "name": "stdout",
     "output_type": "stream",
     "text": [
      "Successfully wrote to src/modules/data.rs\n"
     ]
    }
   ],
   "source": [
    "use std::fs::{create_dir_all, OpenOptions};\n",
    "use std::io::{self, Write};\n",
    "\n",
    "\n",
    "\n",
    "\n",
    "// Specify the directory and file path\n",
    "let dir_path = \"src/modules/\";\n",
    "let file_path = \"src/modules/data.rs\";\n",
    "\n",
    "    // Create the directory if it doesn't exist\n",
    "    create_dir_all(dir_path)?;\n",
    "\n",
    "// Open the file with write and create options, creating it if it doesn't exist\n",
    "let mut file = OpenOptions::new()\n",
    "    .write(true)\n",
    "    .create(true)\n",
    "    .truncate(true)\n",
    "    .open(file_path)?;\n",
    "\n",
    "// Write \"Hello, World!\" to the file\n",
    "file.write_all(b\"\n",
    "\n",
    "// Structures allow for managing incoming and out going data, a place to store data\n",
    "// for later use it also allows us to guard against malformed data.\n",
    "//\n",
    "\n",
    "#[derive(Debug)]\n",
    "pub struct Data {\n",
    "   pub name: String,\n",
    "   pub age: u8,\n",
    "}\n",
    "\n",
    "\n",
    "// Enumerators or Enums allow to classify data into meaningful tokens\n",
    "//\n",
    "#[derive(Debug)]\n",
    "pub enum Direction {\n",
    "        North,\n",
    "        East,\n",
    "        South,\n",
    "        West,\n",
    "    }\n",
    "\n",
    "\\n\")?;\n",
    "\n",
    "println!(\"Successfully wrote to {}\", file_path);\n",
    "\n",
    "\n"
   ]
  },
  {
   "cell_type": "code",
   "execution_count": 18,
   "metadata": {},
   "outputs": [
    {
     "name": "stdout",
     "output_type": "stream",
     "text": [
      "The current directory is /home/mambauser/book\n"
     ]
    }
   ],
   "source": [
    "use std::env;\n",
    "let path_cwd = env::current_dir().unwrap();\n",
    "println!(\"The current directory is {}\", path_cwd.display());\n"
   ]
  },
  {
   "cell_type": "code",
   "execution_count": 23,
   "metadata": {},
   "outputs": [
    {
     "name": "stdout",
     "output_type": "stream",
     "text": [
      "/home/mambauser/book/src/modules/data.rs\n"
     ]
    }
   ],
   "source": [
    "let path_data = path_cwd.join(file_path);\n",
    "println!(\"{}\", path_data.display());\n"
   ]
  },
  {
   "cell_type": "code",
   "execution_count": 2,
   "metadata": {},
   "outputs": [],
   "source": [
    "# [path = \"/home/mambauser/book/src/modules/data.rs\"]\n",
    "mod data;\n",
    "use data::{Data, Direction};"
   ]
  },
  {
   "cell_type": "code",
   "execution_count": 4,
   "metadata": {},
   "outputs": [],
   "source": [
    "// Create an instance of out Data structure and populate it with data\n",
    "// for later use.\n",
    "let new_data: Data = Data{name:\"toure\".to_string(), age:42};\n",
    "\n"
   ]
  },
  {
   "cell_type": "code",
   "execution_count": 6,
   "metadata": {},
   "outputs": [
    {
     "name": "stdout",
     "output_type": "stream",
     "text": [
      "Hello, toure\n",
      "Your favorite number is 42\n",
      "North\n",
      "East\n"
     ]
    },
    {
     "name": "stdout",
     "output_type": "stream",
     "text": [
      "South\n",
      "West\n"
     ]
    }
   ],
   "source": [
    "    // Here we reference the name and age fields in our instance of the Data with\n",
    "    // the dot notation\n",
    "    println!(\"Hello, {}\", new_data.name);\n",
    "    println!(\"Your favorite number is {}\", new_data.age);\n",
    "\n",
    "   // initialize and access enum variants\n",
    "    let north:Direction  = Direction::North;\n",
    "    let east:Direction  = Direction::East;\n",
    "    let south:Direction  = Direction::South;\n",
    "    let west:Direction  = Direction::West;\n",
    "\n",
    "    // print enum values with make use of the debug marker \":?\" as the data type does\n",
    "    // not implement the display trait (traits are covered later)\n",
    "    println!(\"{:?}\", north);\n",
    "    println!(\"{:?}\", east);\n",
    "    println!(\"{:?}\", south);\n",
    "    println!(\"{:?}\", west);"
   ]
  },
  {
   "cell_type": "markdown",
   "metadata": {},
   "source": [
    "## Week 4: Applying Rust\n",
    "\n"
   ]
  },
  {
   "cell_type": "markdown",
   "metadata": {},
   "source": [
    "We will build a library and include it here. I will take notes and use code segments"
   ]
  },
  {
   "cell_type": "markdown",
   "metadata": {},
   "source": [
    "### Building a real-world library\n"
   ]
  },
  {
   "cell_type": "markdown",
   "metadata": {},
   "source": [
    "We will initalize and library build by `cargo init  --lib .`"
   ]
  },
  {
   "cell_type": "markdown",
   "metadata": {},
   "source": [
    "#### Doc"
   ]
  },
  {
   "cell_type": "markdown",
   "metadata": {},
   "source": [
    "Doc can be made with `cargo doc` it builds automatically using the doc line `///` vs comments `//`. \n",
    "\n",
    "We can use a main project description parent page to doc by using the prefix `//!`\n",
    "\n",
    "```Rust\n",
    "//! project details\n",
    "```\n",
    "\n",
    "We can use markdown in the comments example: \n",
    "``` Rust\n",
    "/// This is will show up on the docs\n",
    "/// \n",
    "/// This is also markdown:\n",
    "/// # Examples comment: \n",
    "///     ``` Rust\n",
    "///     let input - stdin();\n",
    "///     ```\n",
    "```"
   ]
  },
  {
   "cell_type": "markdown",
   "metadata": {},
   "source": [
    "### Extending functionality with modules\n"
   ]
  },
  {
   "cell_type": "markdown",
   "metadata": {},
   "source": [
    "### Testing Rust code"
   ]
  }
 ],
 "metadata": {
  "kernelspec": {
   "display_name": "Rust",
   "language": "rust",
   "name": "rust"
  },
  "language_info": {
   "codemirror_mode": "rust",
   "file_extension": ".rs",
   "mimetype": "text/rust",
   "name": "rust",
   "pygment_lexer": "rust",
   "version": ""
  }
 },
 "nbformat": 4,
 "nbformat_minor": 2
}
